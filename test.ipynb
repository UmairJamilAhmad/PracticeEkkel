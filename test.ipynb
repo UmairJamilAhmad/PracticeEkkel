{
 "cells": [
  {
   "cell_type": "code",
   "execution_count": 3,
   "source": [
    "text=\"1.● Car Detailing Workshop is the best detailing specialists in Melbourne. We are able to provide the best service to our customers because of our friendly and professional staff.\\n2.● Our car detailing services are very flexible, you can choose from a wide range of packages that will fit into your busy schedule.\\n3.● We are open 7 days a week and do not charge any extra fees on public holidays, unlike most other car detailing businesses in Melbourne.\\n4.● We offer free pick-up and delivery for all Melbourne, Geelong and Ballarat residents.\\n1.● We are a small garage located at the heart of the city. We specialize in car detailing and customization.\\n2.● We work on all makes and models of cars and we offer free quotes and advice to all our customers.\\n3.● Our experts are highly qualified and we pride ourselves on our professionalism and outstanding results.\\n4.● Get your car to look its best with our services, affordable rates and discounts available for public holidays.\\n1.● We are the top car detailing workshop in London. We have been in business since 2014.\\n2.● We are based in London, United Kingdom.\\n3.● We specialize in all types of car detailing, paint protection film, window tinting, alloy wheels refurbishment, fabric protection, upholstery cleaning and leather treatment.\\n4.● We have a team of expert car detailers who have years of experience in the detailing industry.\"\r\n",
    "#text.split(\"\\\\n\")\r\n",
    "#print(text.replace(\"1.\",\"\").replace(\"2.\",\"\").replace(\"3.\",\"\").replace(\"4.\",\"\"))\r\n",
    "print(text.replace(\"\\n\",\", \"))\r\n",
    "\r\n"
   ],
   "outputs": [
    {
     "output_type": "stream",
     "name": "stdout",
     "text": [
      "1.● Car Detailing Workshop is the best detailing specialists in Melbourne. We are able to provide the best service to our customers because of our friendly and professional staff., 2.● Our car detailing services are very flexible, you can choose from a wide range of packages that will fit into your busy schedule., 3.● We are open 7 days a week and do not charge any extra fees on public holidays, unlike most other car detailing businesses in Melbourne., 4.● We offer free pick-up and delivery for all Melbourne, Geelong and Ballarat residents., 1.● We are a small garage located at the heart of the city. We specialize in car detailing and customization., 2.● We work on all makes and models of cars and we offer free quotes and advice to all our customers., 3.● Our experts are highly qualified and we pride ourselves on our professionalism and outstanding results., 4.● Get your car to look its best with our services, affordable rates and discounts available for public holidays., 1.● We are the top car detailing workshop in London. We have been in business since 2014., 2.● We are based in London, United Kingdom., 3.● We specialize in all types of car detailing, paint protection film, window tinting, alloy wheels refurbishment, fabric protection, upholstery cleaning and leather treatment., 4.● We have a team of expert car detailers who have years of experience in the detailing industry.\n"
     ]
    }
   ],
   "metadata": {}
  },
  {
   "cell_type": "code",
   "execution_count": null,
   "source": [],
   "outputs": [],
   "metadata": {}
  }
 ],
 "metadata": {
  "orig_nbformat": 4,
  "language_info": {
   "name": "python",
   "version": "3.7.8",
   "mimetype": "text/x-python",
   "codemirror_mode": {
    "name": "ipython",
    "version": 3
   },
   "pygments_lexer": "ipython3",
   "nbconvert_exporter": "python",
   "file_extension": ".py"
  },
  "kernelspec": {
   "name": "python3",
   "display_name": "Python 3.7.8 64-bit"
  },
  "interpreter": {
   "hash": "57baa5815c940fdaff4d14510622de9616cae602444507ba5d0b6727c008cbd6"
  }
 },
 "nbformat": 4,
 "nbformat_minor": 2
}